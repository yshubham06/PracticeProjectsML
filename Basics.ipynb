{
 "cells": [
  {
   "cell_type": "code",
   "execution_count": 7,
   "id": "66a5d74f-1b40-45d7-9b67-11f45698c1cd",
   "metadata": {},
   "outputs": [],
   "source": [
    "import pandas as pd\n",
    "import numpy as np\n",
    "import seaborn as sns\n",
    "import matplotlib.pyplot as plt"
   ]
  },
  {
   "cell_type": "code",
   "execution_count": 2,
   "id": "44538f38-7402-4a34-93aa-912192c0706e",
   "metadata": {},
   "outputs": [],
   "source": [
    "ar = np.array([3,47,3,8,6,7,8])"
   ]
  },
  {
   "cell_type": "code",
   "execution_count": 4,
   "id": "d7a4f5d4-7fb7-4ac0-8de2-2ab49451890a",
   "metadata": {},
   "outputs": [
    {
     "data": {
      "text/plain": [
       "11.714285714285714"
      ]
     },
     "execution_count": 4,
     "metadata": {},
     "output_type": "execute_result"
    }
   ],
   "source": [
    "np.mean(ar)"
   ]
  },
  {
   "cell_type": "code",
   "execution_count": 5,
   "id": "06bb7d08-3b6c-4be1-8fde-ea2160e28798",
   "metadata": {},
   "outputs": [
    {
     "data": {
      "text/html": [
       "<div>\n",
       "<style scoped>\n",
       "    .dataframe tbody tr th:only-of-type {\n",
       "        vertical-align: middle;\n",
       "    }\n",
       "\n",
       "    .dataframe tbody tr th {\n",
       "        vertical-align: top;\n",
       "    }\n",
       "\n",
       "    .dataframe thead th {\n",
       "        text-align: right;\n",
       "    }\n",
       "</style>\n",
       "<table border=\"1\" class=\"dataframe\">\n",
       "  <thead>\n",
       "    <tr style=\"text-align: right;\">\n",
       "      <th></th>\n",
       "      <th>survived</th>\n",
       "      <th>pclass</th>\n",
       "      <th>sex</th>\n",
       "      <th>age</th>\n",
       "      <th>sibsp</th>\n",
       "      <th>parch</th>\n",
       "      <th>fare</th>\n",
       "      <th>embarked</th>\n",
       "      <th>class</th>\n",
       "      <th>who</th>\n",
       "      <th>adult_male</th>\n",
       "      <th>deck</th>\n",
       "      <th>embark_town</th>\n",
       "      <th>alive</th>\n",
       "      <th>alone</th>\n",
       "    </tr>\n",
       "  </thead>\n",
       "  <tbody>\n",
       "    <tr>\n",
       "      <th>0</th>\n",
       "      <td>0</td>\n",
       "      <td>3</td>\n",
       "      <td>male</td>\n",
       "      <td>22.0</td>\n",
       "      <td>1</td>\n",
       "      <td>0</td>\n",
       "      <td>7.2500</td>\n",
       "      <td>S</td>\n",
       "      <td>Third</td>\n",
       "      <td>man</td>\n",
       "      <td>True</td>\n",
       "      <td>NaN</td>\n",
       "      <td>Southampton</td>\n",
       "      <td>no</td>\n",
       "      <td>False</td>\n",
       "    </tr>\n",
       "    <tr>\n",
       "      <th>1</th>\n",
       "      <td>1</td>\n",
       "      <td>1</td>\n",
       "      <td>female</td>\n",
       "      <td>38.0</td>\n",
       "      <td>1</td>\n",
       "      <td>0</td>\n",
       "      <td>71.2833</td>\n",
       "      <td>C</td>\n",
       "      <td>First</td>\n",
       "      <td>woman</td>\n",
       "      <td>False</td>\n",
       "      <td>C</td>\n",
       "      <td>Cherbourg</td>\n",
       "      <td>yes</td>\n",
       "      <td>False</td>\n",
       "    </tr>\n",
       "    <tr>\n",
       "      <th>2</th>\n",
       "      <td>1</td>\n",
       "      <td>3</td>\n",
       "      <td>female</td>\n",
       "      <td>26.0</td>\n",
       "      <td>0</td>\n",
       "      <td>0</td>\n",
       "      <td>7.9250</td>\n",
       "      <td>S</td>\n",
       "      <td>Third</td>\n",
       "      <td>woman</td>\n",
       "      <td>False</td>\n",
       "      <td>NaN</td>\n",
       "      <td>Southampton</td>\n",
       "      <td>yes</td>\n",
       "      <td>True</td>\n",
       "    </tr>\n",
       "  </tbody>\n",
       "</table>\n",
       "</div>"
      ],
      "text/plain": [
       "   survived  pclass     sex   age  sibsp  parch     fare embarked  class  \\\n",
       "0         0       3    male  22.0      1      0   7.2500        S  Third   \n",
       "1         1       1  female  38.0      1      0  71.2833        C  First   \n",
       "2         1       3  female  26.0      0      0   7.9250        S  Third   \n",
       "\n",
       "     who  adult_male deck  embark_town alive  alone  \n",
       "0    man        True  NaN  Southampton    no  False  \n",
       "1  woman       False    C    Cherbourg   yes  False  \n",
       "2  woman       False  NaN  Southampton   yes   True  "
      ]
     },
     "execution_count": 5,
     "metadata": {},
     "output_type": "execute_result"
    }
   ],
   "source": [
    "dataTitanic = pd.read_csv('titanic.csv')\n",
    "dataTitanic.head(3)"
   ]
  },
  {
   "cell_type": "code",
   "execution_count": 19,
   "id": "3c047856-df44-4637-b02d-8bfb5f750125",
   "metadata": {},
   "outputs": [],
   "source": [
    "dataTitanic['age'].fillna(dataTitanic['age'].mean(),inplace=True)\n"
   ]
  },
  {
   "cell_type": "code",
   "execution_count": 20,
   "id": "e7e9be17-5df7-4d7b-96c1-7585a695cc73",
   "metadata": {},
   "outputs": [
    {
     "data": {
      "text/plain": [
       "0"
      ]
     },
     "execution_count": 20,
     "metadata": {},
     "output_type": "execute_result"
    }
   ],
   "source": [
    "dataTitanic['age'].isnull().sum()"
   ]
  },
  {
   "cell_type": "code",
   "execution_count": 25,
   "id": "35baef58-26a4-4eaa-9937-b347e4625ab3",
   "metadata": {},
   "outputs": [
    {
     "data": {
      "text/plain": [
       "29.69911764705882"
      ]
     },
     "execution_count": 25,
     "metadata": {},
     "output_type": "execute_result"
    }
   ],
   "source": [
    "med = dataTitanic['age'].median()\n",
    "med"
   ]
  },
  {
   "cell_type": "code",
   "execution_count": 26,
   "id": "44d97167-4393-4193-b1e0-8b9a2bbb6aa8",
   "metadata": {},
   "outputs": [
    {
     "data": {
      "text/plain": [
       "29.69911764705882"
      ]
     },
     "execution_count": 26,
     "metadata": {},
     "output_type": "execute_result"
    }
   ],
   "source": [
    "mn = dataTitanic['age'].mean()\n",
    "mn"
   ]
  },
  {
   "cell_type": "code",
   "execution_count": 24,
   "id": "7587c367-f46b-4357-ab06-ec53344cd40b",
   "metadata": {},
   "outputs": [
    {
     "data": {
      "image/png": "[encoded data removed]",
      "text/plain": [
       "<Figure size 640x480 with 1 Axes>"
      ]
     },
     "metadata": {},
     "output_type": "display_data"
    }
   ],
   "source": [
    "sns.histplot(data=dataTitanic,x='age',bins=[i for i in range(0,81,10)])\n",
    "plt.plot([mn for i  in range(0,500)],[i for i in range(0,500)],c = 'red')\n",
    "plt.plot([med for i  in range(0,500)],[i for i in range(0,500)],c = 'purple')\n",
    "plt.show()\n"
   ]
  },
  {
   "cell_type": "code",
   "execution_count": 30,
   "id": "66538342-8ea1-4198-8f14-68dda29647c6",
   "metadata": {},
   "outputs": [
    {
     "data": {
      "text/plain": [
       "29.69911764705882"
      ]
     },
     "execution_count": 30,
     "metadata": {},
     "output_type": "execute_result"
    }
   ],
   "source": [
    "dataTitanic['age'].mode()[0] #this 0 is because this will return a series we want only data"
   ]
  },
  {
   "cell_type": "code",
   "execution_count": 31,
   "id": "7bac1397-3808-47fa-b6ca-4675f3b01919",
   "metadata": {},
   "outputs": [],
   "source": [
    "#mean absolute division means how many data points are closest to mean smaller the value better the scatteredness of variables"
   ]
  },
  {
   "cell_type": "code",
   "execution_count": 32,
   "id": "40c8c4ff-c208-4fd9-9326-37795813fc4a",
   "metadata": {},
   "outputs": [],
   "source": [
    "sec_a = np.array([23,45,21,34,67])\n",
    "sec_b = np.array([57,1,45,37,22])"
   ]
  },
  {
   "cell_type": "code",
   "execution_count": 33,
   "id": "45b4e9f9-3a64-451e-809b-6a2657f192f9",
   "metadata": {},
   "outputs": [],
   "source": [
    "mean_a = sec_a.mean()\n",
    "mean_b = sec_b.mean()"
   ]
  },
  {
   "cell_type": "code",
   "execution_count": 36,
   "id": "db937070-e00e-4228-91d9-60109795c023",
   "metadata": {},
   "outputs": [
    {
     "data": {
      "text/plain": [
       "(14.4, 16.72)"
      ]
     },
     "execution_count": 36,
     "metadata": {},
     "output_type": "execute_result"
    }
   ],
   "source": [
    "mean_absolute_division_a = (np.sum(np.abs(sec_a-mean_a)))/len(sec_a) #entire arry is divied by mean absoultre value is taken and summed and divided by length\"\"\"\n",
    "mean_absolute_division_b = (np.sum(np.abs(sec_b-mean_b)))/len(sec_b)\n",
    "mean_absolute_division_a,mean_absolute_division_b"
   ]
  },
  {
   "cell_type": "code",
   "execution_count": 41,
   "id": "004eb80b-8883-403e-9b61-6d690728b8c0",
   "metadata": {},
   "outputs": [],
   "source": [
    "## Variance"
   ]
  },
  {
   "cell_type": "code",
   "execution_count": 42,
   "id": "94759f96-e161-46a2-868a-9836a8829d42",
   "metadata": {},
   "outputs": [
    {
     "data": {
      "text/plain": [
       "(284.0, 375.84)"
      ]
     },
     "execution_count": 42,
     "metadata": {},
     "output_type": "execute_result"
    }
   ],
   "source": [
    "sec_a.var(),sec_b.var()"
   ]
  },
  {
   "cell_type": "code",
   "execution_count": 44,
   "id": "774b8704-e780-436a-b624-d8f540edb78e",
   "metadata": {},
   "outputs": [],
   "source": [
    "#Standard Deviation"
   ]
  },
  {
   "cell_type": "code",
   "execution_count": 43,
   "id": "c09f1432-0695-4b58-922d-9c1bb9749a1c",
   "metadata": {},
   "outputs": [
    {
     "data": {
      "text/plain": [
       "(16.852299546352718, 19.386593305684215)"
      ]
     },
     "execution_count": 43,
     "metadata": {},
     "output_type": "execute_result"
    }
   ],
   "source": [
    "sec_a.std(),sec_b.std()"
   ]
  },
  {
   "cell_type": "code",
   "execution_count": 45,
   "id": "2a03f245-6f26-41e5-a401-76b07ba55a4b",
   "metadata": {},
   "outputs": [],
   "source": [
    "#Skewnes"
   ]
  },
  {
   "cell_type": "code",
   "execution_count": 46,
   "id": "d0cbd4cf-0564-4560-b32d-96c0474b5b1c",
   "metadata": {},
   "outputs": [],
   "source": [
    "data = np.random.normal(0,100,100)"
   ]
  },
  {
   "cell_type": "code",
   "execution_count": 48,
   "id": "641b6f5e-cc76-4c3f-9919-08734e1cdbf6",
   "metadata": {},
   "outputs": [],
   "source": [
    "df = pd.DataFrame({'x':data})"
   ]
  },
  {
   "cell_type": "code",
   "execution_count": 50,
   "id": "33714516-a9d5-4c2e-a0f1-f6adfda0ee82",
   "metadata": {},
   "outputs": [
    {
     "data": {
      "image/png": "[encoded data removed]",
      "text/plain": [
       "<Figure size 640x480 with 1 Axes>"
      ]
     },
     "metadata": {},
     "output_type": "display_data"
    }
   ],
   "source": [
    "sns.histplot(x='x',data=df)\n",
    "plt.show()"
   ]
  },
  {
   "cell_type": "code",
   "execution_count": 51,
   "id": "e759a3c0-04d2-4588-88d2-88057ee768b9",
   "metadata": {},
   "outputs": [
    {
     "data": {
      "text/plain": [
       "-0.21236329122979056"
      ]
     },
     "execution_count": 51,
     "metadata": {},
     "output_type": "execute_result"
    }
   ],
   "source": [
    "df['x'].skew()"
   ]
  },
  {
   "cell_type": "code",
   "execution_count": null,
   "id": "d6ebd50b-30ce-4816-940d-92693475e8ef",
   "metadata": {},
   "outputs": [],
   "source": []
  }
 ],
 "metadata": {
  "kernelspec": {
   "display_name": "Python 3 (ipykernel)",
   "language": "python",
   "name": "python3"
  },
  "language_info": {
   "codemirror_mode": {
    "name": "ipython",
    "version": 3
   },
   "file_extension": ".py",
   "mimetype": "text/x-python",
   "name": "python",
   "nbconvert_exporter": "python",
   "pygments_lexer": "ipython3",
   "version": "3.12.3"
  }
 },
 "nbformat": 4,
 "nbformat_minor": 5
}
