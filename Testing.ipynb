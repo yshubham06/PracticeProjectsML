{
 "cells": [
  {
   "cell_type": "code",
   "execution_count": null,
   "id": "7c365c59-6d1e-4c9b-ab7c-02e1d6b111ce",
   "metadata": {},
   "outputs": [],
   "source": [
    "#Hypothesis testing\n",
    "\n",
    "#steps\n",
    "#state null h(0) and alternate h(1) Hypothesis\n",
    "#choose level of significance (a)\n",
    "#find critical values\n",
    "#find test Statistic\n",
    "#Draw your conclusion"
   ]
  },
  {
   "cell_type": "code",
   "execution_count": 4,
   "id": "9b6a8ca4-a7b9-491d-92dc-912110143a5b",
   "metadata": {},
   "outputs": [],
   "source": [
    "import scipy.stats as st\n",
    "import numpy as np"
   ]
  },
  {
   "cell_type": "code",
   "execution_count": 3,
   "id": "5e783926-f509-43b3-8ef0-b68d91cbbc83",
   "metadata": {},
   "outputs": [
    {
     "data": {
      "text/plain": [
       "1.6448536269514722"
      ]
     },
     "execution_count": 3,
     "metadata": {},
     "output_type": "execute_result"
    }
   ],
   "source": [
    "st.norm.ppf(0.95) #this gives the value from z table"
   ]
  },
  {
   "cell_type": "code",
   "execution_count": 7,
   "id": "782f78f1-94e0-4ee3-aec6-b510092e2162",
   "metadata": {},
   "outputs": [],
   "source": [
    "s_x = 90\n",
    "p_u = 82\n",
    "p_std = 20\n",
    "n = 81\n",
    "ap = 0.05"
   ]
  },
  {
   "cell_type": "code",
   "execution_count": 6,
   "id": "9a645a96-95bc-4563-95f0-7569d6e05f50",
   "metadata": {},
   "outputs": [
    {
     "data": {
      "text/plain": [
       "3.5999999999999996"
      ]
     },
     "execution_count": 6,
     "metadata": {},
     "output_type": "execute_result"
    }
   ],
   "source": [
    "z_cal = (s_x - p_u)/(p_std/np.sqrt(n))\n",
    "z_cal"
   ]
  },
  {
   "cell_type": "code",
   "execution_count": 8,
   "id": "e135c6f5-9809-4ac6-b783-851672aac85e",
   "metadata": {},
   "outputs": [
    {
     "data": {
      "text/plain": [
       "1.6448536269514722"
      ]
     },
     "execution_count": 8,
     "metadata": {},
     "output_type": "execute_result"
    }
   ],
   "source": [
    "z_table = st.norm.ppf(1-ap)\n",
    "z_table"
   ]
  },
  {
   "cell_type": "code",
   "execution_count": 9,
   "id": "b8f447d9-f084-48ae-a616-f7a39009a1ae",
   "metadata": {},
   "outputs": [
    {
     "name": "stdout",
     "output_type": "stream",
     "text": [
      "ha is right\n"
     ]
    }
   ],
   "source": [
    "if z_table<z_cal:\n",
    "    print(\"ha is right\")\n",
    "else:\n",
    "    print(\"ho is right\")"
   ]
  },
  {
   "cell_type": "code",
   "execution_count": null,
   "id": "fb490c2e-05ca-4a8e-b8d6-055526526c06",
   "metadata": {},
   "outputs": [],
   "source": []
  }
 ],
 "metadata": {
  "kernelspec": {
   "display_name": "Python 3 (ipykernel)",
   "language": "python",
   "name": "python3"
  },
  "language_info": {
   "codemirror_mode": {
    "name": "ipython",
    "version": 3
   },
   "file_extension": ".py",
   "mimetype": "text/x-python",
   "name": "python",
   "nbconvert_exporter": "python",
   "pygments_lexer": "ipython3",
   "version": "3.12.3"
  }
 },
 "nbformat": 4,
 "nbformat_minor": 5
}
