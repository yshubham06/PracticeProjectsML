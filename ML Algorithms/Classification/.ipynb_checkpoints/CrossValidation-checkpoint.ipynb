{
 "cells": [
  {
   "cell_type": "code",
   "execution_count": 3,
   "id": "a3174a82-ed08-4098-bae1-8c54a931f2f3",
   "metadata": {},
   "outputs": [],
   "source": [
    "import pandas as pd\n",
    "import matplotlib.pyplot as plt\n",
    "import seaborn as sns"
   ]
  },
  {
   "cell_type": "code",
   "execution_count": 5,
   "id": "e3495444-5c7b-403c-b92a-1636c53a559b",
   "metadata": {},
   "outputs": [
    {
     "data": {
      "text/html": [
       "<div>\n",
       "<style scoped>\n",
       "    .dataframe tbody tr th:only-of-type {\n",
       "        vertical-align: middle;\n",
       "    }\n",
       "\n",
       "    .dataframe tbody tr th {\n",
       "        vertical-align: top;\n",
       "    }\n",
       "\n",
       "    .dataframe thead th {\n",
       "        text-align: right;\n",
       "    }\n",
       "</style>\n",
       "<table border=\"1\" class=\"dataframe\">\n",
       "  <thead>\n",
       "    <tr style=\"text-align: right;\">\n",
       "      <th></th>\n",
       "      <th>cgpa</th>\n",
       "      <th>placement_exam_marks</th>\n",
       "      <th>placed</th>\n",
       "    </tr>\n",
       "  </thead>\n",
       "  <tbody>\n",
       "    <tr>\n",
       "      <th>0</th>\n",
       "      <td>7.19</td>\n",
       "      <td>26.0</td>\n",
       "      <td>1</td>\n",
       "    </tr>\n",
       "    <tr>\n",
       "      <th>1</th>\n",
       "      <td>7.46</td>\n",
       "      <td>38.0</td>\n",
       "      <td>1</td>\n",
       "    </tr>\n",
       "    <tr>\n",
       "      <th>2</th>\n",
       "      <td>7.54</td>\n",
       "      <td>40.0</td>\n",
       "      <td>1</td>\n",
       "    </tr>\n",
       "    <tr>\n",
       "      <th>3</th>\n",
       "      <td>6.42</td>\n",
       "      <td>8.0</td>\n",
       "      <td>1</td>\n",
       "    </tr>\n",
       "    <tr>\n",
       "      <th>4</th>\n",
       "      <td>7.23</td>\n",
       "      <td>17.0</td>\n",
       "      <td>0</td>\n",
       "    </tr>\n",
       "  </tbody>\n",
       "</table>\n",
       "</div>"
      ],
      "text/plain": [
       "   cgpa  placement_exam_marks  placed\n",
       "0  7.19                  26.0       1\n",
       "1  7.46                  38.0       1\n",
       "2  7.54                  40.0       1\n",
       "3  6.42                   8.0       1\n",
       "4  7.23                  17.0       0"
      ]
     },
     "execution_count": 5,
     "metadata": {},
     "output_type": "execute_result"
    }
   ],
   "source": [
    "dataset = pd.read_csv('/Users/shubhamyadav/Documents/D/Machine Learning/ML Algorithms/Datasets/placement.csv')\n",
    "dataset.head()"
   ]
  },
  {
   "cell_type": "code",
   "execution_count": 41,
   "id": "f79b527d-a9d5-4bed-9eb0-8d1df1274673",
   "metadata": {},
   "outputs": [],
   "source": [
    "x = dataset[['placement_exam_marks']]\n",
    "y = dataset['cgpa']"
   ]
  },
  {
   "cell_type": "code",
   "execution_count": 9,
   "id": "02218c13-2777-428e-8c1b-1d4a45a850dc",
   "metadata": {},
   "outputs": [
    {
     "data": {
      "text/html": [
       "<div>\n",
       "<style scoped>\n",
       "    .dataframe tbody tr th:only-of-type {\n",
       "        vertical-align: middle;\n",
       "    }\n",
       "\n",
       "    .dataframe tbody tr th {\n",
       "        vertical-align: top;\n",
       "    }\n",
       "\n",
       "    .dataframe thead th {\n",
       "        text-align: right;\n",
       "    }\n",
       "</style>\n",
       "<table border=\"1\" class=\"dataframe\">\n",
       "  <thead>\n",
       "    <tr style=\"text-align: right;\">\n",
       "      <th></th>\n",
       "      <th>cgpa</th>\n",
       "      <th>placement_exam_marks</th>\n",
       "      <th>placed</th>\n",
       "    </tr>\n",
       "  </thead>\n",
       "  <tbody>\n",
       "    <tr>\n",
       "      <th>0</th>\n",
       "      <td>7.19</td>\n",
       "      <td>26.0</td>\n",
       "      <td>1</td>\n",
       "    </tr>\n",
       "    <tr>\n",
       "      <th>1</th>\n",
       "      <td>7.46</td>\n",
       "      <td>38.0</td>\n",
       "      <td>1</td>\n",
       "    </tr>\n",
       "    <tr>\n",
       "      <th>2</th>\n",
       "      <td>7.54</td>\n",
       "      <td>40.0</td>\n",
       "      <td>1</td>\n",
       "    </tr>\n",
       "    <tr>\n",
       "      <th>3</th>\n",
       "      <td>6.42</td>\n",
       "      <td>8.0</td>\n",
       "      <td>1</td>\n",
       "    </tr>\n",
       "    <tr>\n",
       "      <th>4</th>\n",
       "      <td>7.23</td>\n",
       "      <td>17.0</td>\n",
       "      <td>0</td>\n",
       "    </tr>\n",
       "    <tr>\n",
       "      <th>5</th>\n",
       "      <td>7.30</td>\n",
       "      <td>23.0</td>\n",
       "      <td>1</td>\n",
       "    </tr>\n",
       "    <tr>\n",
       "      <th>6</th>\n",
       "      <td>6.69</td>\n",
       "      <td>11.0</td>\n",
       "      <td>0</td>\n",
       "    </tr>\n",
       "    <tr>\n",
       "      <th>7</th>\n",
       "      <td>7.12</td>\n",
       "      <td>39.0</td>\n",
       "      <td>1</td>\n",
       "    </tr>\n",
       "    <tr>\n",
       "      <th>8</th>\n",
       "      <td>6.45</td>\n",
       "      <td>38.0</td>\n",
       "      <td>0</td>\n",
       "    </tr>\n",
       "    <tr>\n",
       "      <th>9</th>\n",
       "      <td>7.75</td>\n",
       "      <td>94.0</td>\n",
       "      <td>1</td>\n",
       "    </tr>\n",
       "  </tbody>\n",
       "</table>\n",
       "</div>"
      ],
      "text/plain": [
       "   cgpa  placement_exam_marks  placed\n",
       "0  7.19                  26.0       1\n",
       "1  7.46                  38.0       1\n",
       "2  7.54                  40.0       1\n",
       "3  6.42                   8.0       1\n",
       "4  7.23                  17.0       0\n",
       "5  7.30                  23.0       1\n",
       "6  6.69                  11.0       0\n",
       "7  7.12                  39.0       1\n",
       "8  6.45                  38.0       0\n",
       "9  7.75                  94.0       1"
      ]
     },
     "execution_count": 9,
     "metadata": {},
     "output_type": "execute_result"
    }
   ],
   "source": [
    "new_data = dataset.head(10)\n",
    "new_data"
   ]
  },
  {
   "cell_type": "code",
   "execution_count": 29,
   "id": "eafa16ad-770d-434b-8188-12baa3579167",
   "metadata": {},
   "outputs": [],
   "source": [
    "from sklearn.model_selection import KFold,StratifiedKFold,LeaveOneOut,LeavePOut"
   ]
  },
  {
   "cell_type": "markdown",
   "id": "c3640d73-7864-4e2f-b563-38fd373a05f6",
   "metadata": {},
   "source": [
    "<H3>Leave One Out"
   ]
  },
  {
   "cell_type": "code",
   "execution_count": 13,
   "id": "70188f11-a317-4e3d-8fdd-26de4e386a20",
   "metadata": {},
   "outputs": [],
   "source": [
    "x_new = new_data['placement_exam_marks']\n",
    "y_new = new_data['cgpa']"
   ]
  },
  {
   "cell_type": "code",
   "execution_count": 15,
   "id": "8c5bfb49-8a58-4654-97b5-76d343b72256",
   "metadata": {},
   "outputs": [
    {
     "name": "stdout",
     "output_type": "stream",
     "text": [
      "[1 2 3 4 5 6 7 8 9] [0]\n",
      "[0 2 3 4 5 6 7 8 9] [1]\n",
      "[0 1 3 4 5 6 7 8 9] [2]\n",
      "[0 1 2 4 5 6 7 8 9] [3]\n",
      "[0 1 2 3 5 6 7 8 9] [4]\n",
      "[0 1 2 3 4 6 7 8 9] [5]\n",
      "[0 1 2 3 4 5 7 8 9] [6]\n",
      "[0 1 2 3 4 5 6 8 9] [7]\n",
      "[0 1 2 3 4 5 6 7 9] [8]\n",
      "[0 1 2 3 4 5 6 7 8] [9]\n"
     ]
    }
   ],
   "source": [
    "lo = LeaveOneOut()\n",
    "\n",
    "for train, test in lo.split(x_new,y_new):\n",
    "    print(train,test)"
   ]
  },
  {
   "cell_type": "markdown",
   "id": "a5ed706e-387a-4a60-a260-e7e520119f9f",
   "metadata": {},
   "source": [
    "<H3>Leave P Out"
   ]
  },
  {
   "cell_type": "code",
   "execution_count": 22,
   "id": "3e822fa1-27ff-4c83-99d9-7e22152b1563",
   "metadata": {},
   "outputs": [
    {
     "name": "stdout",
     "output_type": "stream",
     "text": [
      "[3 4 5 6 7 8 9] [0 1 2]\n",
      "[2 4 5 6 7 8 9] [0 1 3]\n",
      "[2 3 5 6 7 8 9] [0 1 4]\n",
      "[2 3 4 6 7 8 9] [0 1 5]\n",
      "[2 3 4 5 7 8 9] [0 1 6]\n",
      "[2 3 4 5 6 8 9] [0 1 7]\n",
      "[2 3 4 5 6 7 9] [0 1 8]\n",
      "[2 3 4 5 6 7 8] [0 1 9]\n",
      "[1 4 5 6 7 8 9] [0 2 3]\n",
      "[1 3 5 6 7 8 9] [0 2 4]\n",
      "[1 3 4 6 7 8 9] [0 2 5]\n",
      "[1 3 4 5 7 8 9] [0 2 6]\n",
      "[1 3 4 5 6 8 9] [0 2 7]\n",
      "[1 3 4 5 6 7 9] [0 2 8]\n",
      "[1 3 4 5 6 7 8] [0 2 9]\n",
      "[1 2 5 6 7 8 9] [0 3 4]\n",
      "[1 2 4 6 7 8 9] [0 3 5]\n",
      "[1 2 4 5 7 8 9] [0 3 6]\n",
      "[1 2 4 5 6 8 9] [0 3 7]\n",
      "[1 2 4 5 6 7 9] [0 3 8]\n",
      "[1 2 4 5 6 7 8] [0 3 9]\n",
      "[1 2 3 6 7 8 9] [0 4 5]\n",
      "[1 2 3 5 7 8 9] [0 4 6]\n",
      "[1 2 3 5 6 8 9] [0 4 7]\n",
      "[1 2 3 5 6 7 9] [0 4 8]\n",
      "[1 2 3 5 6 7 8] [0 4 9]\n",
      "[1 2 3 4 7 8 9] [0 5 6]\n",
      "[1 2 3 4 6 8 9] [0 5 7]\n",
      "[1 2 3 4 6 7 9] [0 5 8]\n",
      "[1 2 3 4 6 7 8] [0 5 9]\n",
      "[1 2 3 4 5 8 9] [0 6 7]\n",
      "[1 2 3 4 5 7 9] [0 6 8]\n",
      "[1 2 3 4 5 7 8] [0 6 9]\n",
      "[1 2 3 4 5 6 9] [0 7 8]\n",
      "[1 2 3 4 5 6 8] [0 7 9]\n",
      "[1 2 3 4 5 6 7] [0 8 9]\n",
      "[0 4 5 6 7 8 9] [1 2 3]\n",
      "[0 3 5 6 7 8 9] [1 2 4]\n",
      "[0 3 4 6 7 8 9] [1 2 5]\n",
      "[0 3 4 5 7 8 9] [1 2 6]\n",
      "[0 3 4 5 6 8 9] [1 2 7]\n",
      "[0 3 4 5 6 7 9] [1 2 8]\n",
      "[0 3 4 5 6 7 8] [1 2 9]\n",
      "[0 2 5 6 7 8 9] [1 3 4]\n",
      "[0 2 4 6 7 8 9] [1 3 5]\n",
      "[0 2 4 5 7 8 9] [1 3 6]\n",
      "[0 2 4 5 6 8 9] [1 3 7]\n",
      "[0 2 4 5 6 7 9] [1 3 8]\n",
      "[0 2 4 5 6 7 8] [1 3 9]\n",
      "[0 2 3 6 7 8 9] [1 4 5]\n",
      "[0 2 3 5 7 8 9] [1 4 6]\n",
      "[0 2 3 5 6 8 9] [1 4 7]\n",
      "[0 2 3 5 6 7 9] [1 4 8]\n",
      "[0 2 3 5 6 7 8] [1 4 9]\n",
      "[0 2 3 4 7 8 9] [1 5 6]\n",
      "[0 2 3 4 6 8 9] [1 5 7]\n",
      "[0 2 3 4 6 7 9] [1 5 8]\n",
      "[0 2 3 4 6 7 8] [1 5 9]\n",
      "[0 2 3 4 5 8 9] [1 6 7]\n",
      "[0 2 3 4 5 7 9] [1 6 8]\n",
      "[0 2 3 4 5 7 8] [1 6 9]\n",
      "[0 2 3 4 5 6 9] [1 7 8]\n",
      "[0 2 3 4 5 6 8] [1 7 9]\n",
      "[0 2 3 4 5 6 7] [1 8 9]\n",
      "[0 1 5 6 7 8 9] [2 3 4]\n",
      "[0 1 4 6 7 8 9] [2 3 5]\n",
      "[0 1 4 5 7 8 9] [2 3 6]\n",
      "[0 1 4 5 6 8 9] [2 3 7]\n",
      "[0 1 4 5 6 7 9] [2 3 8]\n",
      "[0 1 4 5 6 7 8] [2 3 9]\n",
      "[0 1 3 6 7 8 9] [2 4 5]\n",
      "[0 1 3 5 7 8 9] [2 4 6]\n",
      "[0 1 3 5 6 8 9] [2 4 7]\n",
      "[0 1 3 5 6 7 9] [2 4 8]\n",
      "[0 1 3 5 6 7 8] [2 4 9]\n",
      "[0 1 3 4 7 8 9] [2 5 6]\n",
      "[0 1 3 4 6 8 9] [2 5 7]\n",
      "[0 1 3 4 6 7 9] [2 5 8]\n",
      "[0 1 3 4 6 7 8] [2 5 9]\n",
      "[0 1 3 4 5 8 9] [2 6 7]\n",
      "[0 1 3 4 5 7 9] [2 6 8]\n",
      "[0 1 3 4 5 7 8] [2 6 9]\n",
      "[0 1 3 4 5 6 9] [2 7 8]\n",
      "[0 1 3 4 5 6 8] [2 7 9]\n",
      "[0 1 3 4 5 6 7] [2 8 9]\n",
      "[0 1 2 6 7 8 9] [3 4 5]\n",
      "[0 1 2 5 7 8 9] [3 4 6]\n",
      "[0 1 2 5 6 8 9] [3 4 7]\n",
      "[0 1 2 5 6 7 9] [3 4 8]\n",
      "[0 1 2 5 6 7 8] [3 4 9]\n",
      "[0 1 2 4 7 8 9] [3 5 6]\n",
      "[0 1 2 4 6 8 9] [3 5 7]\n",
      "[0 1 2 4 6 7 9] [3 5 8]\n",
      "[0 1 2 4 6 7 8] [3 5 9]\n",
      "[0 1 2 4 5 8 9] [3 6 7]\n",
      "[0 1 2 4 5 7 9] [3 6 8]\n",
      "[0 1 2 4 5 7 8] [3 6 9]\n",
      "[0 1 2 4 5 6 9] [3 7 8]\n",
      "[0 1 2 4 5 6 8] [3 7 9]\n",
      "[0 1 2 4 5 6 7] [3 8 9]\n",
      "[0 1 2 3 7 8 9] [4 5 6]\n",
      "[0 1 2 3 6 8 9] [4 5 7]\n",
      "[0 1 2 3 6 7 9] [4 5 8]\n",
      "[0 1 2 3 6 7 8] [4 5 9]\n",
      "[0 1 2 3 5 8 9] [4 6 7]\n",
      "[0 1 2 3 5 7 9] [4 6 8]\n",
      "[0 1 2 3 5 7 8] [4 6 9]\n",
      "[0 1 2 3 5 6 9] [4 7 8]\n",
      "[0 1 2 3 5 6 8] [4 7 9]\n",
      "[0 1 2 3 5 6 7] [4 8 9]\n",
      "[0 1 2 3 4 8 9] [5 6 7]\n",
      "[0 1 2 3 4 7 9] [5 6 8]\n",
      "[0 1 2 3 4 7 8] [5 6 9]\n",
      "[0 1 2 3 4 6 9] [5 7 8]\n",
      "[0 1 2 3 4 6 8] [5 7 9]\n",
      "[0 1 2 3 4 6 7] [5 8 9]\n",
      "[0 1 2 3 4 5 9] [6 7 8]\n",
      "[0 1 2 3 4 5 8] [6 7 9]\n",
      "[0 1 2 3 4 5 7] [6 8 9]\n",
      "[0 1 2 3 4 5 6] [7 8 9]\n"
     ]
    }
   ],
   "source": [
    "lp = LeavePOut(3)\n",
    "\n",
    "for train, test in lp.split(x_new,y_new):\n",
    "    print(train,test)"
   ]
  },
  {
   "cell_type": "markdown",
   "id": "fb526a7b-dc39-4f89-b4a5-b77073583ab1",
   "metadata": {},
   "source": [
    "<h3>K-Fold"
   ]
  },
  {
   "cell_type": "code",
   "execution_count": 26,
   "id": "8c78acaf-0d5a-43b9-829c-984a553eb5f8",
   "metadata": {},
   "outputs": [
    {
     "name": "stdout",
     "output_type": "stream",
     "text": [
      "[3 4 5 6 7 8 9] [0 1 2]\n",
      "[0 1 2 6 7 8 9] [3 4 5]\n",
      "[0 1 2 3 4 5 8 9] [6 7]\n",
      "[0 1 2 3 4 5 6 7] [8 9]\n"
     ]
    }
   ],
   "source": [
    "lp = KFold(n_splits=4)\n",
    "\n",
    "for train, test in lp.split(x_new,y_new):\n",
    "    print(train,test)"
   ]
  },
  {
   "cell_type": "markdown",
   "id": "360c226d-4c88-4a56-9fe3-be4a99ac1821",
   "metadata": {},
   "source": [
    "<h3>Stratified K fold"
   ]
  },
  {
   "cell_type": "code",
   "execution_count": 33,
   "id": "cde2f3d6-950d-4883-8027-9a3c3e9bc28b",
   "metadata": {},
   "outputs": [
    {
     "ename": "ValueError",
     "evalue": "Supported target types are: ('binary', 'multiclass'). Got 'continuous' instead.",
     "output_type": "error",
     "traceback": [
      "\u001b[0;31m---------------------------------------------------------------------------\u001b[0m",
      "\u001b[0;31mValueError\u001b[0m                                Traceback (most recent call last)",
      "Cell \u001b[0;32mIn[33], line 3\u001b[0m\n\u001b[1;32m      1\u001b[0m lp \u001b[38;5;241m=\u001b[39m StratifiedKFold(n_splits\u001b[38;5;241m=\u001b[39m\u001b[38;5;241m6\u001b[39m)\n\u001b[0;32m----> 3\u001b[0m \u001b[38;5;28;01mfor\u001b[39;00m train, test \u001b[38;5;129;01min\u001b[39;00m lp\u001b[38;5;241m.\u001b[39msplit(x_new,y_new):\n\u001b[1;32m      4\u001b[0m     \u001b[38;5;28mprint\u001b[39m(train,test)\n",
      "File \u001b[0;32m/opt/anaconda3/lib/python3.12/site-packages/sklearn/model_selection/_split.py:377\u001b[0m, in \u001b[0;36m_BaseKFold.split\u001b[0;34m(self, X, y, groups)\u001b[0m\n\u001b[1;32m    369\u001b[0m \u001b[38;5;28;01mif\u001b[39;00m \u001b[38;5;28mself\u001b[39m\u001b[38;5;241m.\u001b[39mn_splits \u001b[38;5;241m>\u001b[39m n_samples:\n\u001b[1;32m    370\u001b[0m     \u001b[38;5;28;01mraise\u001b[39;00m \u001b[38;5;167;01mValueError\u001b[39;00m(\n\u001b[1;32m    371\u001b[0m         (\n\u001b[1;32m    372\u001b[0m             \u001b[38;5;124m\"\u001b[39m\u001b[38;5;124mCannot have number of splits n_splits=\u001b[39m\u001b[38;5;132;01m{0}\u001b[39;00m\u001b[38;5;124m greater\u001b[39m\u001b[38;5;124m\"\u001b[39m\n\u001b[1;32m    373\u001b[0m             \u001b[38;5;124m\"\u001b[39m\u001b[38;5;124m than the number of samples: n_samples=\u001b[39m\u001b[38;5;132;01m{1}\u001b[39;00m\u001b[38;5;124m.\u001b[39m\u001b[38;5;124m\"\u001b[39m\n\u001b[1;32m    374\u001b[0m         )\u001b[38;5;241m.\u001b[39mformat(\u001b[38;5;28mself\u001b[39m\u001b[38;5;241m.\u001b[39mn_splits, n_samples)\n\u001b[1;32m    375\u001b[0m     )\n\u001b[0;32m--> 377\u001b[0m \u001b[38;5;28;01mfor\u001b[39;00m train, test \u001b[38;5;129;01min\u001b[39;00m \u001b[38;5;28msuper\u001b[39m()\u001b[38;5;241m.\u001b[39msplit(X, y, groups):\n\u001b[1;32m    378\u001b[0m     \u001b[38;5;28;01myield\u001b[39;00m train, test\n",
      "File \u001b[0;32m/opt/anaconda3/lib/python3.12/site-packages/sklearn/model_selection/_split.py:108\u001b[0m, in \u001b[0;36mBaseCrossValidator.split\u001b[0;34m(self, X, y, groups)\u001b[0m\n\u001b[1;32m    106\u001b[0m X, y, groups \u001b[38;5;241m=\u001b[39m indexable(X, y, groups)\n\u001b[1;32m    107\u001b[0m indices \u001b[38;5;241m=\u001b[39m np\u001b[38;5;241m.\u001b[39marange(_num_samples(X))\n\u001b[0;32m--> 108\u001b[0m \u001b[38;5;28;01mfor\u001b[39;00m test_index \u001b[38;5;129;01min\u001b[39;00m \u001b[38;5;28mself\u001b[39m\u001b[38;5;241m.\u001b[39m_iter_test_masks(X, y, groups):\n\u001b[1;32m    109\u001b[0m     train_index \u001b[38;5;241m=\u001b[39m indices[np\u001b[38;5;241m.\u001b[39mlogical_not(test_index)]\n\u001b[1;32m    110\u001b[0m     test_index \u001b[38;5;241m=\u001b[39m indices[test_index]\n",
      "File \u001b[0;32m/opt/anaconda3/lib/python3.12/site-packages/sklearn/model_selection/_split.py:758\u001b[0m, in \u001b[0;36mStratifiedKFold._iter_test_masks\u001b[0;34m(self, X, y, groups)\u001b[0m\n\u001b[1;32m    757\u001b[0m \u001b[38;5;28;01mdef\u001b[39;00m \u001b[38;5;21m_iter_test_masks\u001b[39m(\u001b[38;5;28mself\u001b[39m, X, y\u001b[38;5;241m=\u001b[39m\u001b[38;5;28;01mNone\u001b[39;00m, groups\u001b[38;5;241m=\u001b[39m\u001b[38;5;28;01mNone\u001b[39;00m):\n\u001b[0;32m--> 758\u001b[0m     test_folds \u001b[38;5;241m=\u001b[39m \u001b[38;5;28mself\u001b[39m\u001b[38;5;241m.\u001b[39m_make_test_folds(X, y)\n\u001b[1;32m    759\u001b[0m     \u001b[38;5;28;01mfor\u001b[39;00m i \u001b[38;5;129;01min\u001b[39;00m \u001b[38;5;28mrange\u001b[39m(\u001b[38;5;28mself\u001b[39m\u001b[38;5;241m.\u001b[39mn_splits):\n\u001b[1;32m    760\u001b[0m         \u001b[38;5;28;01myield\u001b[39;00m test_folds \u001b[38;5;241m==\u001b[39m i\n",
      "File \u001b[0;32m/opt/anaconda3/lib/python3.12/site-packages/sklearn/model_selection/_split.py:701\u001b[0m, in \u001b[0;36mStratifiedKFold._make_test_folds\u001b[0;34m(self, X, y)\u001b[0m\n\u001b[1;32m    699\u001b[0m allowed_target_types \u001b[38;5;241m=\u001b[39m (\u001b[38;5;124m\"\u001b[39m\u001b[38;5;124mbinary\u001b[39m\u001b[38;5;124m\"\u001b[39m, \u001b[38;5;124m\"\u001b[39m\u001b[38;5;124mmulticlass\u001b[39m\u001b[38;5;124m\"\u001b[39m)\n\u001b[1;32m    700\u001b[0m \u001b[38;5;28;01mif\u001b[39;00m type_of_target_y \u001b[38;5;129;01mnot\u001b[39;00m \u001b[38;5;129;01min\u001b[39;00m allowed_target_types:\n\u001b[0;32m--> 701\u001b[0m     \u001b[38;5;28;01mraise\u001b[39;00m \u001b[38;5;167;01mValueError\u001b[39;00m(\n\u001b[1;32m    702\u001b[0m         \u001b[38;5;124m\"\u001b[39m\u001b[38;5;124mSupported target types are: \u001b[39m\u001b[38;5;132;01m{}\u001b[39;00m\u001b[38;5;124m. Got \u001b[39m\u001b[38;5;132;01m{!r}\u001b[39;00m\u001b[38;5;124m instead.\u001b[39m\u001b[38;5;124m\"\u001b[39m\u001b[38;5;241m.\u001b[39mformat(\n\u001b[1;32m    703\u001b[0m             allowed_target_types, type_of_target_y\n\u001b[1;32m    704\u001b[0m         )\n\u001b[1;32m    705\u001b[0m     )\n\u001b[1;32m    707\u001b[0m y \u001b[38;5;241m=\u001b[39m column_or_1d(y)\n\u001b[1;32m    709\u001b[0m _, y_idx, y_inv \u001b[38;5;241m=\u001b[39m np\u001b[38;5;241m.\u001b[39munique(y, return_index\u001b[38;5;241m=\u001b[39m\u001b[38;5;28;01mTrue\u001b[39;00m, return_inverse\u001b[38;5;241m=\u001b[39m\u001b[38;5;28;01mTrue\u001b[39;00m)\n",
      "\u001b[0;31mValueError\u001b[0m: Supported target types are: ('binary', 'multiclass'). Got 'continuous' instead."
     ]
    }
   ],
   "source": [
    "lp = StratifiedKFold(n_splits=6)\n",
    "\n",
    "for train, test in lp.split(x_new,y_new):\n",
    "    print(train,test)\n",
    "\n",
    "\n",
    "#works only for classification not for binary"
   ]
  },
  {
   "cell_type": "code",
   "execution_count": 35,
   "id": "9ebcbf8b-8f84-4522-b380-9402c18d564d",
   "metadata": {},
   "outputs": [],
   "source": [
    "from sklearn.linear_model import LinearRegression"
   ]
  },
  {
   "cell_type": "code",
   "execution_count": 37,
   "id": "85472a74-ba63-49f6-9676-7258029fa05b",
   "metadata": {},
   "outputs": [],
   "source": [
    "from sklearn.model_selection import cross_val_score"
   ]
  },
  {
   "cell_type": "code",
   "execution_count": 45,
   "id": "9f631faa-2185-47bf-89fc-e4c3a8fd6ee7",
   "metadata": {},
   "outputs": [
    {
     "data": {
      "text/plain": [
       "array([-0.00465026,  0.00055248, -0.01434122, -0.00415452,  0.0005422 ])"
      ]
     },
     "execution_count": 45,
     "metadata": {},
     "output_type": "execute_result"
    }
   ],
   "source": [
    "cross_val_score(LinearRegression(),x,y,cv=5)"
   ]
  },
  {
   "cell_type": "code",
   "execution_count": 47,
   "id": "fb2d2ed1-875b-4ffe-88ca-7cfdfdab7671",
   "metadata": {},
   "outputs": [
    {
     "data": {
      "text/plain": [
       "array([-0.00465026,  0.00055248, -0.01434122, -0.00415452,  0.0005422 ])"
      ]
     },
     "execution_count": 47,
     "metadata": {},
     "output_type": "execute_result"
    }
   ],
   "source": [
    "cross_val_score(LinearRegression(),x,y,cv=KFold(n_splits=5))"
   ]
  },
  {
   "cell_type": "code",
   "execution_count": null,
   "id": "7c4eb71f-f1db-4d80-8c27-002b29bc5461",
   "metadata": {},
   "outputs": [],
   "source": []
  }
 ],
 "metadata": {
  "kernelspec": {
   "display_name": "Python 3 (ipykernel)",
   "language": "python",
   "name": "python3"
  },
  "language_info": {
   "codemirror_mode": {
    "name": "ipython",
    "version": 3
   },
   "file_extension": ".py",
   "mimetype": "text/x-python",
   "name": "python",
   "nbconvert_exporter": "python",
   "pygments_lexer": "ipython3",
   "version": "3.12.4"
  }
 },
 "nbformat": 4,
 "nbformat_minor": 5
}
