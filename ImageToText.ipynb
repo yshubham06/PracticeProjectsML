{
 "cells": [
  {
   "cell_type": "code",
   "execution_count": 12,
   "id": "8ba34499-9592-4ecc-946b-11c9abf7a173",
   "metadata": {},
   "outputs": [],
   "source": [
    "from pdf2image import convert_from_path\n",
    "import pytesseract\n",
    "import os"
   ]
  },
  {
   "cell_type": "code",
   "execution_count": 10,
   "id": "db352330-2ce1-4145-9186-3400793ad97d",
   "metadata": {},
   "outputs": [
    {
     "name": "stdout",
     "output_type": "stream",
     "text": [
      "Converting PDF to images...\n",
      "Extracting text from images...\n",
      "An error occurred: tesseract is not installed or it's not in your PATH. See README file for more information.\n"
     ]
    }
   ],
   "source": [
    "# Function to convert PDF to plain text\n",
    "def pdf_to_text(pdf_path, output_text_file):\n",
    "    try:\n",
    "        # Convert PDF to images\n",
    "        print(\"Converting PDF to images...\")\n",
    "        images = convert_from_path(pdf_path)\n",
    "        \n",
    "        # Extract text from each image\n",
    "        print(\"Extracting text from images...\")\n",
    "        extracted_text = \"\"\n",
    "        for page_number, image in enumerate(images, start=1):\n",
    "            extracted_text += f\"--- Page {page_number} ---\\n\"\n",
    "            extracted_text += pytesseract.image_to_string(image, lang='eng') + \"\\n\\n\"\n",
    "\n",
    "        # Save the extracted text to a file\n",
    "        with open(output_text_file, \"w\") as text_file:\n",
    "            text_file.write(extracted_text)\n",
    "\n",
    "        print(f\"Text extraction complete. Output saved to: {output_text_file}\")\n",
    "    except Exception as e:\n",
    "        print(f\"An error occurred: {e}\")\n",
    "\n",
    "# Path to the PDF file\n",
    "pdf_file_path = \"/Users/shubhamyadav/Downloads/PES1202202743_Research paper.pdf\"  # Replace with your PDF file path\n",
    "output_text_path = \"/Users/shubhamyadav/Downloads\"         # Replace with desired output text file name\n",
    "\n",
    "# Run the function\n",
    "pdf_to_text(pdf_file_path, output_text_path)\n"
   ]
  },
  {
   "cell_type": "code",
   "execution_count": null,
   "id": "4ec848a9-f904-4c33-9e98-324743524294",
   "metadata": {},
   "outputs": [],
   "source": []
  }
 ],
 "metadata": {
  "kernelspec": {
   "display_name": "Python 3 (ipykernel)",
   "language": "python",
   "name": "python3"
  },
  "language_info": {
   "codemirror_mode": {
    "name": "ipython",
    "version": 3
   },
   "file_extension": ".py",
   "mimetype": "text/x-python",
   "name": "python",
   "nbconvert_exporter": "python",
   "pygments_lexer": "ipython3",
   "version": "3.12.2"
  }
 },
 "nbformat": 4,
 "nbformat_minor": 5
}
